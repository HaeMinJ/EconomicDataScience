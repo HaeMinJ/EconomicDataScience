{
  "nbformat": 4,
  "nbformat_minor": 0,
  "metadata": {
    "colab": {
      "name": "Untitled1.ipynb",
      "provenance": [],
      "collapsed_sections": [],
      "toc_visible": true,
      "authorship_tag": "ABX9TyOPcgDiRI8t/ioTAA/H3RzZ",
      "include_colab_link": true
    },
    "kernelspec": {
      "name": "python3",
      "display_name": "Python 3"
    },
    "language_info": {
      "name": "python"
    }
  },
  "cells": [
    {
      "cell_type": "markdown",
      "metadata": {
        "id": "view-in-github",
        "colab_type": "text"
      },
      "source": [
        "<a href=\"https://colab.research.google.com/github/HaeMinJ/EconomicDataScience/blob/main/Untitled1.ipynb\" target=\"_parent\"><img src=\"https://colab.research.google.com/assets/colab-badge.svg\" alt=\"Open In Colab\"/></a>"
      ]
    },
    {
      "cell_type": "markdown",
      "source": [
        "업비트 API를 활용하기 위해 import한다.\n",
        "<br>get_ohlcv() 함수를 통해 과거부터 지금까지의 시가를 알 수 있다."
      ],
      "metadata": {
        "id": "XtM1PrJnpRef"
      }
    },
    {
      "cell_type": "code",
      "source": [
        "import pyupbit\n",
        "import math\n",
        "import numpy as np\n",
        "df = pyupbit.get_ohlcv()\n",
        "print(df['close'])\n"
      ],
      "metadata": {
        "id": "hF-FOVQUqgY0"
      },
      "execution_count": null,
      "outputs": []
    },
    {
      "cell_type": "markdown",
      "source": [
        "시가를 분석하기 위한 함수를 정의한다.<br>\n",
        "ScaleDown 함수의 경우 x의 자릿수를 절감하여 tensorflow 상에서 분석하기 용이하도록 한다. <br>\n",
        "makeX 함수와 makeY 함수를 통해 이전의 시가, 고가, 저가, 종가, 거래량을 토대로 다음 날의 종가를 예측하도록 한다."
      ],
      "metadata": {
        "id": "47Ym-ZCypu_2"
      }
    },
    {
      "cell_type": "code",
      "source": [
        "def scaleDown(df, name, i):\n",
        "    return round(df[name].iloc[i]/math.pow(10,len(str(int(df[name].iloc[i])))),3)"
      ],
      "metadata": {
        "id": "WjwT34BurkTc"
      },
      "execution_count": null,
      "outputs": []
    },
    {
      "cell_type": "code",
      "source": [
        "def makeX(df, i):\n",
        "    tempX = []\n",
        "    tempX.append(scaleDown(df, 'open', i))\n",
        "    tempX.append(scaleDown(df, 'high', i))\n",
        "    tempX.append(scaleDown(df, 'low', i))\n",
        "    tempX.append(scaleDown(df, 'close', i))\n",
        "    tempX.append(scaleDown(df, 'volume', i))\n",
        "    return tempX"
      ],
      "metadata": {
        "id": "tRVsy6cRrTMr"
      },
      "execution_count": null,
      "outputs": []
    },
    {
      "cell_type": "code",
      "source": [
        "def makeY(df, i):\n",
        "    gap = df['close'].iloc[i+1] - df['close'].iloc[i]\n",
        "    tempY = 1 if gap > 0 else 0\n",
        "    return tempY\n",
        "\n"
      ],
      "metadata": {
        "id": "tB2txZp-rTw7"
      },
      "execution_count": null,
      "outputs": []
    },
    {
      "cell_type": "code",
      "source": [
        "x = []\n",
        "y = []\n",
        "for i in range(len(df)):\n",
        "  x.append(makeX(df, i))\n",
        "  y.append(makeY(df, i-1))"
      ],
      "metadata": {
        "id": "8PGU9X-pr0im"
      },
      "execution_count": null,
      "outputs": []
    },
    {
      "cell_type": "markdown",
      "source": [
        "데이터의 준비가 끝나면 해석을 위해 텐서플로우를 가져온다. <br>\n",
        "또 tensorflow를 하이레벨에서 코드하기 위하여 Keras를 사용한다."
      ],
      "metadata": {
        "id": "syUk86yfqO7L"
      }
    },
    {
      "cell_type": "code",
      "source": [
        "import tensorflow as tf"
      ],
      "metadata": {
        "id": "58GOxEGGt-vT"
      },
      "execution_count": null,
      "outputs": []
    },
    {
      "cell_type": "code",
      "source": [
        "#인풋 데이터 5개 이므로 shape=(5,)를 대입\n",
        "inputs = tf.keras.Input(shape=(5,))\n",
        "\n",
        "# h1 ~ h3은 히든 레이어, 층이 깊을 수록 정확도가 높아질 수 있음\n",
        "# relu, tanh는 활성화 함수의 종류\n",
        "h1 = tf.keras.layers.Dense(128, activation='relu')(inputs)\n",
        "h2 = tf.keras.layers.Dense(128, activation='tanh')(h1)\n",
        "h3 = tf.keras.layers.Dense(128, activation='relu')(h2)\n",
        "\n",
        "# 값을 0 ~ 1 사이로 표현할 경우 sigmoid 활성화 함수 활용\n",
        "# 마지막 아웃풋 값은 1개여야 함\n",
        "outputs = tf.keras.layers.Dense(1, activation='sigmoid')(h3)\n",
        "\n",
        "# 인풋, 아웃풋 설정을 대입하여 모델 생성 \n",
        "model = tf.keras.Model(inputs=inputs, outputs=outputs)"
      ],
      "metadata": {
        "id": "_YPyEc9st7Zi"
      },
      "execution_count": null,
      "outputs": []
    },
    {
      "cell_type": "code",
      "source": [
        "model.compile(optimizer=\"adam\", loss=\"binary_crossentropy\", metrics=['accuracy'])"
      ],
      "metadata": {
        "id": "Y_0348WPuH4C"
      },
      "execution_count": null,
      "outputs": []
    },
    {
      "cell_type": "code",
      "source": [
        "fitInfo = model.fit(np.array(x), np.array(y), epochs=2000)"
      ],
      "metadata": {
        "id": "pQ3E-vfFuMto"
      },
      "execution_count": null,
      "outputs": []
    }
  ]
}