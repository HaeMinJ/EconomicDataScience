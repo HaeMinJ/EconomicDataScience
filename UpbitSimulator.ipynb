{
  "nbformat": 4,
  "nbformat_minor": 0,
  "metadata": {
    "colab": {
      "name": "UpbitSimulator.ipynb",
      "provenance": [],
      "authorship_tag": "ABX9TyMiEdYOCPBP9vTr5EzgP6ba",
      "include_colab_link": true
    },
    "kernelspec": {
      "name": "python3",
      "display_name": "Python 3"
    },
    "language_info": {
      "name": "python"
    }
  },
  "cells": [
    {
      "cell_type": "markdown",
      "metadata": {
        "id": "view-in-github",
        "colab_type": "text"
      },
      "source": [
        "<a href=\"https://colab.research.google.com/github/HaeMinJ/EconomicDataScience/blob/main/UpbitSimulator.ipynb\" target=\"_parent\"><img src=\"https://colab.research.google.com/assets/colab-badge.svg\" alt=\"Open In Colab\"/></a>"
      ]
    },
    {
      "cell_type": "code",
      "source": [
        "INITIAL_MONEY = 100000\n",
        "CURRENT_UUID = 0\n",
        "UPBIT_TRADE_FEE = 0.0005"
      ],
      "metadata": {
        "id": "LXjr4PJIr6PJ"
      },
      "execution_count": 8,
      "outputs": []
    },
    {
      "cell_type": "code",
      "execution_count": 7,
      "metadata": {
        "id": "vCDrs3R5qt50"
      },
      "outputs": [],
      "source": [
        "import pyupbit\n",
        "import math\n",
        "import numpy as np\n",
        "import datetime"
      ]
    },
    {
      "cell_type": "code",
      "source": [
        "print(pyupbit.get_tickers(fiat=\"KRW\"))"
      ],
      "metadata": {
        "colab": {
          "base_uri": "https://localhost:8080/"
        },
        "id": "LVF1F5eut2Vr",
        "outputId": "827a5b5a-6078-42bb-ab16-ea53cf28db08"
      },
      "execution_count": 6,
      "outputs": [
        {
          "output_type": "stream",
          "name": "stdout",
          "text": [
            "['KRW-BTC', 'KRW-ETH', 'KRW-NEO', 'KRW-MTL', 'KRW-LTC', 'KRW-XRP', 'KRW-ETC', 'KRW-OMG', 'KRW-SNT', 'KRW-WAVES', 'KRW-XEM', 'KRW-QTUM', 'KRW-LSK', 'KRW-STEEM', 'KRW-XLM', 'KRW-ARDR', 'KRW-ARK', 'KRW-STORJ', 'KRW-GRS', 'KRW-REP', 'KRW-ADA', 'KRW-SBD', 'KRW-POWR', 'KRW-BTG', 'KRW-ICX', 'KRW-EOS', 'KRW-TRX', 'KRW-SC', 'KRW-ONT', 'KRW-ZIL', 'KRW-POLY', 'KRW-ZRX', 'KRW-LOOM', 'KRW-BCH', 'KRW-BAT', 'KRW-IOST', 'KRW-RFR', 'KRW-CVC', 'KRW-IQ', 'KRW-IOTA', 'KRW-MFT', 'KRW-ONG', 'KRW-GAS', 'KRW-UPP', 'KRW-ELF', 'KRW-KNC', 'KRW-BSV', 'KRW-THETA', 'KRW-QKC', 'KRW-BTT', 'KRW-MOC', 'KRW-ENJ', 'KRW-TFUEL', 'KRW-MANA', 'KRW-ANKR', 'KRW-AERGO', 'KRW-ATOM', 'KRW-TT', 'KRW-CRE', 'KRW-MBL', 'KRW-WAXP', 'KRW-HBAR', 'KRW-MED', 'KRW-MLK', 'KRW-STPT', 'KRW-ORBS', 'KRW-VET', 'KRW-CHZ', 'KRW-STMX', 'KRW-DKA', 'KRW-HIVE', 'KRW-KAVA', 'KRW-AHT', 'KRW-LINK', 'KRW-XTZ', 'KRW-BORA', 'KRW-JST', 'KRW-CRO', 'KRW-TON', 'KRW-SXP', 'KRW-HUNT', 'KRW-PLA', 'KRW-DOT', 'KRW-SRM', 'KRW-MVL', 'KRW-STRAX', 'KRW-AQT', 'KRW-GLM', 'KRW-SSX', 'KRW-META', 'KRW-FCT2', 'KRW-CBK', 'KRW-SAND', 'KRW-HUM', 'KRW-DOGE', 'KRW-STRK', 'KRW-PUNDIX', 'KRW-FLOW', 'KRW-DAWN', 'KRW-AXS', 'KRW-STX', 'KRW-XEC', 'KRW-SOL', 'KRW-MATIC', 'KRW-NU', 'KRW-AAVE', 'KRW-1INCH', 'KRW-ALGO', 'KRW-NEAR', 'KRW-WEMIX', 'KRW-AVAX', 'KRW-T', 'KRW-CELO', 'KRW-GMT']\n"
          ]
        }
      ]
    },
    {
      "cell_type": "code",
      "source": [
        "class Balance:\n",
        "  def __init__(self, currency, balance, locked, avg_buy_price, avg_buy_price_modified=False, unit_currency='KRW'):\n",
        "    self.currency = currency\n",
        "    self.balance = balance\n",
        "    self.locked = locked\n",
        "    self.avg_buy_price = avg_buy_price\n",
        "    self.avg_buy_price_modified = avg_buy_price_modified\n",
        "    self.unit_currency = unit_currency"
      ],
      "metadata": {
        "id": "bqKoU7GPxn3b"
      },
      "execution_count": null,
      "outputs": []
    },
    {
      "cell_type": "code",
      "source": [
        "class User:\n",
        "  def __init__(self, name, KRW):\n",
        "    self.name = name\n",
        "    self.balances = []\n",
        "    self.orders = []\n",
        "    self.balances.append(Balance('KRW', KRW, 0.0, 0))"
      ],
      "metadata": {
        "id": "mwzr1SyBq3FZ"
      },
      "execution_count": null,
      "outputs": []
    },
    {
      "cell_type": "code",
      "source": [
        "class Order:\n",
        "  def __init__(self, side, ord_type, price, market, volume):\n",
        "    self.uuid = ++CURRENT_UUID\n",
        "    self.side = side\n",
        "    self.ord_type = ord_type\n",
        "    self.price = price\n",
        "    self.state = 'wait'\n",
        "    self.market = market\n",
        "    self.created_at = datetime.datetime.now()\n",
        "    self.volume = volume\n",
        "    self.remaining_volume = volume\n",
        "    self.reserved_fee = price*volume*UPBIT_TRADE_FEE\n",
        "    self.remaining_fee = self.reserved_fee\n",
        "    self.paid_fee = 0.0\n",
        "    self.locked = price*volume+self.remaining_fee\n",
        "    self.excuted_volume = 0.0\n",
        "    self.trades_count = 0"
      ],
      "metadata": {
        "id": "qtcoNxCFz6a-"
      },
      "execution_count": null,
      "outputs": []
    },
    {
      "cell_type": "code",
      "source": [
        "class VUpbit:\n",
        "  orderQueue = []\n",
        "  def __init__(self, access, secret):\n",
        "    self.user = access\n",
        "    self.balances = self.user.balances\n",
        "    self.orders = self.user.orders\n",
        "    #Order-Queue \n",
        "  def get_balances(self):\n",
        "    return self.balances\n",
        "  def sell_limit_order(self, ticker, price, volume, contain_req=False):\n",
        "    order = Order('bid', 'limit',price,ticker,volume)\n",
        "    self.orderQueue.append(order)\n",
        "    self.orders.append(order)\n",
        "  def buy_limit_order(self, ticker, price, volume, contain_req=False):\n",
        "    order = Order('ask', 'limit',price,ticker,volume)\n",
        "    self.orderQueue.append(order)\n",
        "    self.orders.append(order)\n",
        "    print(\"Buy %s for %d\"%(ticker,price,volume))\n",
        "    #지정가 매수매도.\n",
        "  def buy_market_order(self, ticker, price, contain_req=False):\n",
        "    market_price = pyupbit.get_current_price(ticker)\n",
        "    volume = price/market_price\n",
        "    order = Order('ask', 'limit',market_price,ticker, volume )\n",
        "    self.orderQueue.append(order)\n",
        "    self.orders.append(order)\n",
        "    print(\"Buy %s for %d\"%(ticker,price))\n",
        "\n",
        "  def sell_market_order(self, ticker, volume, contain_req=False):\n",
        "    market_price = pyupbit.get_current_price(ticker)\n",
        "    order = Order('bid', 'limit',market_price, ticker, volume )\n",
        "    self.orderQueue.append(order)\n",
        "    self.orders.append(order)\n",
        "    print(\"Sell %d %s\"%(volume, ticker))\n",
        "    #시장가 매수매도.\n",
        "  def cancel_order(self, uuid, contain_req=False):\n",
        "    \n",
        "    print(\"Cancle Order %s\"%(uuid))\n",
        "  def get_order(self, ticker_or_uuid, state='wait', kind='normal', contain_req=False):\n",
        "    return self.orders"
      ],
      "metadata": {
        "id": "15oOQNu9we0W"
      },
      "execution_count": null,
      "outputs": []
    },
    {
      "cell_type": "code",
      "source": [
        "user = User(name=\"HaeMinJ\", KRW = INITIAL_MONEY )\n",
        "user.sell_limit_order()"
      ],
      "metadata": {
        "id": "IeSRkP7GrzRi"
      },
      "execution_count": null,
      "outputs": []
    }
  ]
}